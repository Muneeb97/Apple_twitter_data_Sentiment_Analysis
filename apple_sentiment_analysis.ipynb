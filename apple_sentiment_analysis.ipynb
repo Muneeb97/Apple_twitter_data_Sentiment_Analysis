{
 "cells": [
  {
   "cell_type": "code",
   "execution_count": 131,
   "metadata": {},
   "outputs": [],
   "source": [
    "import pandas as pd\n",
    "import numpy as np\n",
    "import matplotlib.pyplot as plt\n",
    "import matplotlib\n",
    "import seaborn as sns\n",
    "import scipy.stats as st\n",
    "\n",
    "plt.style.use('fivethirtyeight')\n",
    "font = {'family' : 'monospace',\n",
    "        'size'   : 10}\n",
    "matplotlib.rc('font', **font)\n",
    "pd.set_option('display.max_colwidth', -1)"
   ]
  },
  {
   "cell_type": "code",
   "execution_count": 43,
   "metadata": {},
   "outputs": [],
   "source": [
    "df = pd.read_csv('Apple-Twitter-Sentiment-DFE.csv',encoding='latin-1')"
   ]
  },
  {
   "cell_type": "code",
   "execution_count": 44,
   "metadata": {},
   "outputs": [
    {
     "name": "stdout",
     "output_type": "stream",
     "text": [
      "<class 'pandas.core.frame.DataFrame'>\n",
      "RangeIndex: 3886 entries, 0 to 3885\n",
      "Data columns (total 12 columns):\n",
      "_unit_id                3886 non-null int64\n",
      "_golden                 3886 non-null bool\n",
      "_unit_state             3886 non-null object\n",
      "_trusted_judgments      3886 non-null int64\n",
      "_last_judgment_at       3783 non-null object\n",
      "sentiment               3886 non-null object\n",
      "sentiment:confidence    3886 non-null float64\n",
      "date                    3886 non-null object\n",
      "id                      3886 non-null float64\n",
      "query                   3886 non-null object\n",
      "sentiment_gold          103 non-null object\n",
      "text                    3886 non-null object\n",
      "dtypes: bool(1), float64(2), int64(2), object(7)\n",
      "memory usage: 337.9+ KB\n"
     ]
    }
   ],
   "source": [
    "df.info()"
   ]
  },
  {
   "cell_type": "code",
   "execution_count": 45,
   "metadata": {},
   "outputs": [
    {
     "data": {
      "text/html": [
       "<div>\n",
       "<style scoped>\n",
       "    .dataframe tbody tr th:only-of-type {\n",
       "        vertical-align: middle;\n",
       "    }\n",
       "\n",
       "    .dataframe tbody tr th {\n",
       "        vertical-align: top;\n",
       "    }\n",
       "\n",
       "    .dataframe thead th {\n",
       "        text-align: right;\n",
       "    }\n",
       "</style>\n",
       "<table border=\"1\" class=\"dataframe\">\n",
       "  <thead>\n",
       "    <tr style=\"text-align: right;\">\n",
       "      <th></th>\n",
       "      <th>_unit_id</th>\n",
       "      <th>_golden</th>\n",
       "      <th>_unit_state</th>\n",
       "      <th>_trusted_judgments</th>\n",
       "      <th>_last_judgment_at</th>\n",
       "      <th>sentiment</th>\n",
       "      <th>sentiment:confidence</th>\n",
       "      <th>date</th>\n",
       "      <th>id</th>\n",
       "      <th>query</th>\n",
       "      <th>sentiment_gold</th>\n",
       "      <th>text</th>\n",
       "    </tr>\n",
       "  </thead>\n",
       "  <tbody>\n",
       "    <tr>\n",
       "      <th>0</th>\n",
       "      <td>623495513</td>\n",
       "      <td>True</td>\n",
       "      <td>golden</td>\n",
       "      <td>10</td>\n",
       "      <td>NaN</td>\n",
       "      <td>3</td>\n",
       "      <td>0.6264</td>\n",
       "      <td>Mon Dec 01 19:30:03 +0000 2014</td>\n",
       "      <td>5.400000e+17</td>\n",
       "      <td>#AAPL OR @Apple</td>\n",
       "      <td>3\\nnot_relevant</td>\n",
       "      <td>#AAPL:The 10 best Steve Jobs emails ever...htt...</td>\n",
       "    </tr>\n",
       "    <tr>\n",
       "      <th>1</th>\n",
       "      <td>623495514</td>\n",
       "      <td>True</td>\n",
       "      <td>golden</td>\n",
       "      <td>12</td>\n",
       "      <td>NaN</td>\n",
       "      <td>3</td>\n",
       "      <td>0.8129</td>\n",
       "      <td>Mon Dec 01 19:43:51 +0000 2014</td>\n",
       "      <td>5.400000e+17</td>\n",
       "      <td>#AAPL OR @Apple</td>\n",
       "      <td>3\\n1</td>\n",
       "      <td>RT @JPDesloges: Why AAPL Stock Had a Mini-Flas...</td>\n",
       "    </tr>\n",
       "    <tr>\n",
       "      <th>2</th>\n",
       "      <td>623495515</td>\n",
       "      <td>True</td>\n",
       "      <td>golden</td>\n",
       "      <td>10</td>\n",
       "      <td>NaN</td>\n",
       "      <td>3</td>\n",
       "      <td>1.0000</td>\n",
       "      <td>Mon Dec 01 19:50:28 +0000 2014</td>\n",
       "      <td>5.400000e+17</td>\n",
       "      <td>#AAPL OR @Apple</td>\n",
       "      <td>3</td>\n",
       "      <td>My cat only chews @apple cords. Such an #Apple...</td>\n",
       "    </tr>\n",
       "    <tr>\n",
       "      <th>3</th>\n",
       "      <td>623495516</td>\n",
       "      <td>True</td>\n",
       "      <td>golden</td>\n",
       "      <td>17</td>\n",
       "      <td>NaN</td>\n",
       "      <td>3</td>\n",
       "      <td>0.5848</td>\n",
       "      <td>Mon Dec 01 20:26:34 +0000 2014</td>\n",
       "      <td>5.400000e+17</td>\n",
       "      <td>#AAPL OR @Apple</td>\n",
       "      <td>3\\n1</td>\n",
       "      <td>I agree with @jimcramer that the #IndividualIn...</td>\n",
       "    </tr>\n",
       "    <tr>\n",
       "      <th>4</th>\n",
       "      <td>623495517</td>\n",
       "      <td>False</td>\n",
       "      <td>finalized</td>\n",
       "      <td>3</td>\n",
       "      <td>12/12/14 12:14</td>\n",
       "      <td>3</td>\n",
       "      <td>0.6474</td>\n",
       "      <td>Mon Dec 01 20:29:33 +0000 2014</td>\n",
       "      <td>5.400000e+17</td>\n",
       "      <td>#AAPL OR @Apple</td>\n",
       "      <td>NaN</td>\n",
       "      <td>Nobody expects the Spanish Inquisition #AAPL</td>\n",
       "    </tr>\n",
       "  </tbody>\n",
       "</table>\n",
       "</div>"
      ],
      "text/plain": [
       "    _unit_id  _golden _unit_state  _trusted_judgments _last_judgment_at  \\\n",
       "0  623495513     True      golden                  10               NaN   \n",
       "1  623495514     True      golden                  12               NaN   \n",
       "2  623495515     True      golden                  10               NaN   \n",
       "3  623495516     True      golden                  17               NaN   \n",
       "4  623495517    False   finalized                   3    12/12/14 12:14   \n",
       "\n",
       "  sentiment  sentiment:confidence                            date  \\\n",
       "0         3                0.6264  Mon Dec 01 19:30:03 +0000 2014   \n",
       "1         3                0.8129  Mon Dec 01 19:43:51 +0000 2014   \n",
       "2         3                1.0000  Mon Dec 01 19:50:28 +0000 2014   \n",
       "3         3                0.5848  Mon Dec 01 20:26:34 +0000 2014   \n",
       "4         3                0.6474  Mon Dec 01 20:29:33 +0000 2014   \n",
       "\n",
       "             id            query   sentiment_gold  \\\n",
       "0  5.400000e+17  #AAPL OR @Apple  3\\nnot_relevant   \n",
       "1  5.400000e+17  #AAPL OR @Apple             3\\n1   \n",
       "2  5.400000e+17  #AAPL OR @Apple                3   \n",
       "3  5.400000e+17  #AAPL OR @Apple             3\\n1   \n",
       "4  5.400000e+17  #AAPL OR @Apple              NaN   \n",
       "\n",
       "                                                text  \n",
       "0  #AAPL:The 10 best Steve Jobs emails ever...htt...  \n",
       "1  RT @JPDesloges: Why AAPL Stock Had a Mini-Flas...  \n",
       "2  My cat only chews @apple cords. Such an #Apple...  \n",
       "3  I agree with @jimcramer that the #IndividualIn...  \n",
       "4       Nobody expects the Spanish Inquisition #AAPL  "
      ]
     },
     "execution_count": 45,
     "metadata": {},
     "output_type": "execute_result"
    }
   ],
   "source": [
    "df.head()"
   ]
  },
  {
   "cell_type": "markdown",
   "metadata": {},
   "source": [
    "<h4>First, as you can see in the sentiment column, the values range between 0 and 5. So, it is imperitive to binarize it in the form of:<br>\n",
    "- <font color=green>Positive Sentiment = 1</font> <br>\n",
    "- <font color=red>Negative Sentiment = 0</font> <br>\n",
    "\n",
    "Lets first remove the garbage values from the sentiment column which are either '3' or 'not_relevant' and also reset the index\n",
    "\n",
    "</h4>"
   ]
  },
  {
   "cell_type": "code",
   "execution_count": 46,
   "metadata": {},
   "outputs": [],
   "source": [
    "df = df[df['sentiment']!=\"3\"]\n",
    "df = df[df['sentiment']!='not_relevant']\n",
    "df = df.reset_index()"
   ]
  },
  {
   "cell_type": "code",
   "execution_count": 47,
   "metadata": {},
   "outputs": [
    {
     "data": {
      "text/html": [
       "<div>\n",
       "<style scoped>\n",
       "    .dataframe tbody tr th:only-of-type {\n",
       "        vertical-align: middle;\n",
       "    }\n",
       "\n",
       "    .dataframe tbody tr th {\n",
       "        vertical-align: top;\n",
       "    }\n",
       "\n",
       "    .dataframe thead th {\n",
       "        text-align: right;\n",
       "    }\n",
       "</style>\n",
       "<table border=\"1\" class=\"dataframe\">\n",
       "  <thead>\n",
       "    <tr style=\"text-align: right;\">\n",
       "      <th></th>\n",
       "      <th>index</th>\n",
       "      <th>_unit_id</th>\n",
       "      <th>_golden</th>\n",
       "      <th>_unit_state</th>\n",
       "      <th>_trusted_judgments</th>\n",
       "      <th>_last_judgment_at</th>\n",
       "      <th>sentiment</th>\n",
       "      <th>sentiment:confidence</th>\n",
       "      <th>date</th>\n",
       "      <th>id</th>\n",
       "      <th>query</th>\n",
       "      <th>sentiment_gold</th>\n",
       "      <th>text</th>\n",
       "    </tr>\n",
       "  </thead>\n",
       "  <tbody>\n",
       "    <tr>\n",
       "      <th>0</th>\n",
       "      <td>6</td>\n",
       "      <td>623495519</td>\n",
       "      <td>True</td>\n",
       "      <td>golden</td>\n",
       "      <td>13</td>\n",
       "      <td>NaN</td>\n",
       "      <td>5</td>\n",
       "      <td>0.8468</td>\n",
       "      <td>Mon Dec 01 20:32:45 +0000 2014</td>\n",
       "      <td>5.400000e+17</td>\n",
       "      <td>#AAPL OR @Apple</td>\n",
       "      <td>5</td>\n",
       "      <td>Top 3 all @Apple #tablets. Damn right! http://...</td>\n",
       "    </tr>\n",
       "    <tr>\n",
       "      <th>1</th>\n",
       "      <td>7</td>\n",
       "      <td>623495520</td>\n",
       "      <td>True</td>\n",
       "      <td>golden</td>\n",
       "      <td>9</td>\n",
       "      <td>NaN</td>\n",
       "      <td>5</td>\n",
       "      <td>0.6736</td>\n",
       "      <td>Mon Dec 01 20:34:31 +0000 2014</td>\n",
       "      <td>5.400000e+17</td>\n",
       "      <td>#AAPL OR @Apple</td>\n",
       "      <td>5\\n3</td>\n",
       "      <td>CNBCTV: #Apple's margins better than expected?...</td>\n",
       "    </tr>\n",
       "    <tr>\n",
       "      <th>2</th>\n",
       "      <td>10</td>\n",
       "      <td>623495523</td>\n",
       "      <td>True</td>\n",
       "      <td>golden</td>\n",
       "      <td>12</td>\n",
       "      <td>NaN</td>\n",
       "      <td>1</td>\n",
       "      <td>1.0000</td>\n",
       "      <td>Mon Dec 01 20:46:01 +0000 2014</td>\n",
       "      <td>5.400000e+17</td>\n",
       "      <td>#AAPL OR @Apple</td>\n",
       "      <td>1</td>\n",
       "      <td>WTF MY BATTERY WAS 31% ONE SECOND AGO AND NOW ...</td>\n",
       "    </tr>\n",
       "    <tr>\n",
       "      <th>3</th>\n",
       "      <td>13</td>\n",
       "      <td>623495526</td>\n",
       "      <td>False</td>\n",
       "      <td>finalized</td>\n",
       "      <td>3</td>\n",
       "      <td>12/12/14 21:38</td>\n",
       "      <td>5</td>\n",
       "      <td>1.0000</td>\n",
       "      <td>Mon Dec 01 21:03:32 +0000 2014</td>\n",
       "      <td>5.400000e+17</td>\n",
       "      <td>#AAPL OR @Apple</td>\n",
       "      <td>NaN</td>\n",
       "      <td>RT @peterpham: Bought my @AugustSmartLock at t...</td>\n",
       "    </tr>\n",
       "    <tr>\n",
       "      <th>4</th>\n",
       "      <td>14</td>\n",
       "      <td>623495527</td>\n",
       "      <td>True</td>\n",
       "      <td>golden</td>\n",
       "      <td>17</td>\n",
       "      <td>NaN</td>\n",
       "      <td>1</td>\n",
       "      <td>1.0000</td>\n",
       "      <td>Mon Dec 01 21:09:50 +0000 2014</td>\n",
       "      <td>5.400000e+17</td>\n",
       "      <td>#AAPL OR @Apple</td>\n",
       "      <td>1</td>\n",
       "      <td>@apple Contact sync between Yosemite and iOS8 ...</td>\n",
       "    </tr>\n",
       "  </tbody>\n",
       "</table>\n",
       "</div>"
      ],
      "text/plain": [
       "   index   _unit_id  _golden _unit_state  _trusted_judgments  \\\n",
       "0      6  623495519     True      golden                  13   \n",
       "1      7  623495520     True      golden                   9   \n",
       "2     10  623495523     True      golden                  12   \n",
       "3     13  623495526    False   finalized                   3   \n",
       "4     14  623495527     True      golden                  17   \n",
       "\n",
       "  _last_judgment_at sentiment  sentiment:confidence  \\\n",
       "0               NaN         5                0.8468   \n",
       "1               NaN         5                0.6736   \n",
       "2               NaN         1                1.0000   \n",
       "3    12/12/14 21:38         5                1.0000   \n",
       "4               NaN         1                1.0000   \n",
       "\n",
       "                             date            id            query  \\\n",
       "0  Mon Dec 01 20:32:45 +0000 2014  5.400000e+17  #AAPL OR @Apple   \n",
       "1  Mon Dec 01 20:34:31 +0000 2014  5.400000e+17  #AAPL OR @Apple   \n",
       "2  Mon Dec 01 20:46:01 +0000 2014  5.400000e+17  #AAPL OR @Apple   \n",
       "3  Mon Dec 01 21:03:32 +0000 2014  5.400000e+17  #AAPL OR @Apple   \n",
       "4  Mon Dec 01 21:09:50 +0000 2014  5.400000e+17  #AAPL OR @Apple   \n",
       "\n",
       "  sentiment_gold                                               text  \n",
       "0              5  Top 3 all @Apple #tablets. Damn right! http://...  \n",
       "1           5\\n3  CNBCTV: #Apple's margins better than expected?...  \n",
       "2              1  WTF MY BATTERY WAS 31% ONE SECOND AGO AND NOW ...  \n",
       "3            NaN  RT @peterpham: Bought my @AugustSmartLock at t...  \n",
       "4              1  @apple Contact sync between Yosemite and iOS8 ...  "
      ]
     },
     "execution_count": 47,
     "metadata": {},
     "output_type": "execute_result"
    }
   ],
   "source": [
    "df.head()"
   ]
  },
  {
   "cell_type": "markdown",
   "metadata": {},
   "source": [
    "As we are doing a simple sentiment analysis, we don't require many of the columns so lets drop them"
   ]
  },
  {
   "cell_type": "code",
   "execution_count": 48,
   "metadata": {},
   "outputs": [],
   "source": [
    "df = df.drop(['index', '_unit_id', '_golden', '_unit_state', '_trusted_judgments', '_last_judgment_at', 'date','id','query', 'sentiment_gold'], axis =1)"
   ]
  },
  {
   "cell_type": "code",
   "execution_count": 49,
   "metadata": {},
   "outputs": [
    {
     "data": {
      "text/html": [
       "<div>\n",
       "<style scoped>\n",
       "    .dataframe tbody tr th:only-of-type {\n",
       "        vertical-align: middle;\n",
       "    }\n",
       "\n",
       "    .dataframe tbody tr th {\n",
       "        vertical-align: top;\n",
       "    }\n",
       "\n",
       "    .dataframe thead th {\n",
       "        text-align: right;\n",
       "    }\n",
       "</style>\n",
       "<table border=\"1\" class=\"dataframe\">\n",
       "  <thead>\n",
       "    <tr style=\"text-align: right;\">\n",
       "      <th></th>\n",
       "      <th>sentiment</th>\n",
       "      <th>sentiment:confidence</th>\n",
       "      <th>text</th>\n",
       "    </tr>\n",
       "  </thead>\n",
       "  <tbody>\n",
       "    <tr>\n",
       "      <th>0</th>\n",
       "      <td>5</td>\n",
       "      <td>0.8468</td>\n",
       "      <td>Top 3 all @Apple #tablets. Damn right! http://...</td>\n",
       "    </tr>\n",
       "    <tr>\n",
       "      <th>1</th>\n",
       "      <td>5</td>\n",
       "      <td>0.6736</td>\n",
       "      <td>CNBCTV: #Apple's margins better than expected?...</td>\n",
       "    </tr>\n",
       "    <tr>\n",
       "      <th>2</th>\n",
       "      <td>1</td>\n",
       "      <td>1.0000</td>\n",
       "      <td>WTF MY BATTERY WAS 31% ONE SECOND AGO AND NOW ...</td>\n",
       "    </tr>\n",
       "    <tr>\n",
       "      <th>3</th>\n",
       "      <td>5</td>\n",
       "      <td>1.0000</td>\n",
       "      <td>RT @peterpham: Bought my @AugustSmartLock at t...</td>\n",
       "    </tr>\n",
       "    <tr>\n",
       "      <th>4</th>\n",
       "      <td>1</td>\n",
       "      <td>1.0000</td>\n",
       "      <td>@apple Contact sync between Yosemite and iOS8 ...</td>\n",
       "    </tr>\n",
       "  </tbody>\n",
       "</table>\n",
       "</div>"
      ],
      "text/plain": [
       "  sentiment  sentiment:confidence  \\\n",
       "0         5                0.8468   \n",
       "1         5                0.6736   \n",
       "2         1                1.0000   \n",
       "3         5                1.0000   \n",
       "4         1                1.0000   \n",
       "\n",
       "                                                text  \n",
       "0  Top 3 all @Apple #tablets. Damn right! http://...  \n",
       "1  CNBCTV: #Apple's margins better than expected?...  \n",
       "2  WTF MY BATTERY WAS 31% ONE SECOND AGO AND NOW ...  \n",
       "3  RT @peterpham: Bought my @AugustSmartLock at t...  \n",
       "4  @apple Contact sync between Yosemite and iOS8 ...  "
      ]
     },
     "execution_count": 49,
     "metadata": {},
     "output_type": "execute_result"
    }
   ],
   "source": [
    "df.head()"
   ]
  },
  {
   "cell_type": "code",
   "execution_count": 51,
   "metadata": {},
   "outputs": [],
   "source": [
    "df['sentiment'] = df['sentiment'].astype(int)\n",
    "df['sentiment'] = (df['sentiment']>3).astype(int)"
   ]
  },
  {
   "cell_type": "code",
   "execution_count": 52,
   "metadata": {},
   "outputs": [
    {
     "data": {
      "text/html": [
       "<div>\n",
       "<style scoped>\n",
       "    .dataframe tbody tr th:only-of-type {\n",
       "        vertical-align: middle;\n",
       "    }\n",
       "\n",
       "    .dataframe tbody tr th {\n",
       "        vertical-align: top;\n",
       "    }\n",
       "\n",
       "    .dataframe thead th {\n",
       "        text-align: right;\n",
       "    }\n",
       "</style>\n",
       "<table border=\"1\" class=\"dataframe\">\n",
       "  <thead>\n",
       "    <tr style=\"text-align: right;\">\n",
       "      <th></th>\n",
       "      <th>sentiment</th>\n",
       "      <th>sentiment:confidence</th>\n",
       "      <th>text</th>\n",
       "    </tr>\n",
       "  </thead>\n",
       "  <tbody>\n",
       "    <tr>\n",
       "      <th>0</th>\n",
       "      <td>1</td>\n",
       "      <td>0.8468</td>\n",
       "      <td>Top 3 all @Apple #tablets. Damn right! http://...</td>\n",
       "    </tr>\n",
       "    <tr>\n",
       "      <th>1</th>\n",
       "      <td>1</td>\n",
       "      <td>0.6736</td>\n",
       "      <td>CNBCTV: #Apple's margins better than expected?...</td>\n",
       "    </tr>\n",
       "    <tr>\n",
       "      <th>2</th>\n",
       "      <td>0</td>\n",
       "      <td>1.0000</td>\n",
       "      <td>WTF MY BATTERY WAS 31% ONE SECOND AGO AND NOW ...</td>\n",
       "    </tr>\n",
       "    <tr>\n",
       "      <th>3</th>\n",
       "      <td>1</td>\n",
       "      <td>1.0000</td>\n",
       "      <td>RT @peterpham: Bought my @AugustSmartLock at t...</td>\n",
       "    </tr>\n",
       "    <tr>\n",
       "      <th>4</th>\n",
       "      <td>0</td>\n",
       "      <td>1.0000</td>\n",
       "      <td>@apple Contact sync between Yosemite and iOS8 ...</td>\n",
       "    </tr>\n",
       "  </tbody>\n",
       "</table>\n",
       "</div>"
      ],
      "text/plain": [
       "   sentiment  sentiment:confidence  \\\n",
       "0          1                0.8468   \n",
       "1          1                0.6736   \n",
       "2          0                1.0000   \n",
       "3          1                1.0000   \n",
       "4          0                1.0000   \n",
       "\n",
       "                                                text  \n",
       "0  Top 3 all @Apple #tablets. Damn right! http://...  \n",
       "1  CNBCTV: #Apple's margins better than expected?...  \n",
       "2  WTF MY BATTERY WAS 31% ONE SECOND AGO AND NOW ...  \n",
       "3  RT @peterpham: Bought my @AugustSmartLock at t...  \n",
       "4  @apple Contact sync between Yosemite and iOS8 ...  "
      ]
     },
     "execution_count": 52,
     "metadata": {},
     "output_type": "execute_result"
    }
   ],
   "source": [
    "df.head()"
   ]
  },
  {
   "cell_type": "markdown",
   "metadata": {},
   "source": [
    "<h5>As you can see, we binarized the sentiment column to 0 & 1. Lets count the number of instances of 0 and 1 as a sentiment:"
   ]
  },
  {
   "cell_type": "code",
   "execution_count": 53,
   "metadata": {},
   "outputs": [
    {
     "name": "stdout",
     "output_type": "stream",
     "text": [
      "0    1219\n",
      "1     423\n",
      "Name: sentiment, dtype: int64 \n",
      "\n",
      "25.76 % +ve comments\n",
      "74.24 % -ve comments\n"
     ]
    }
   ],
   "source": [
    "print(df.sentiment.value_counts(),'\\n')\n",
    "print(round(423/1642 *100,2),'% +ve comments')\n",
    "print(round(1219/1642 *100,2),'% -ve comments')"
   ]
  },
  {
   "cell_type": "markdown",
   "metadata": {},
   "source": [
    "This simply shows us that the number of comments with negative sentiment is approximately 3 times larger than the positive ones.\n",
    "\n",
    "Lets clean the text column and remove all the extra jargon from it to process it further. We have to remove all url and Twitter symbols and convert all to lower case\n"
   ]
  },
  {
   "cell_type": "code",
   "execution_count": 54,
   "metadata": {},
   "outputs": [],
   "source": [
    "from sklearn.model_selection import train_test_split\n",
    "df['text'] = df['text'].str.replace(r\"http\\S+\", \"\")\n",
    "df['text'] = df['text'].str.replace(r\"http\", \"\")\n",
    "df['text'] = df['text'].str.replace(r\"@\\S+\", \"\")\n",
    "df['text'] = df['text'].str.replace(r\"[^A-Za-z0-9(),!?@\\'\\`\\\"\\_\\n]\", \" \")\n",
    "df['text'] = df['text'].str.replace(r\"@\", \"at\")\n",
    "df['text'] = df['text'].str.lower()"
   ]
  },
  {
   "cell_type": "code",
   "execution_count": 55,
   "metadata": {},
   "outputs": [
    {
     "data": {
      "text/html": [
       "<div>\n",
       "<style scoped>\n",
       "    .dataframe tbody tr th:only-of-type {\n",
       "        vertical-align: middle;\n",
       "    }\n",
       "\n",
       "    .dataframe tbody tr th {\n",
       "        vertical-align: top;\n",
       "    }\n",
       "\n",
       "    .dataframe thead th {\n",
       "        text-align: right;\n",
       "    }\n",
       "</style>\n",
       "<table border=\"1\" class=\"dataframe\">\n",
       "  <thead>\n",
       "    <tr style=\"text-align: right;\">\n",
       "      <th></th>\n",
       "      <th>sentiment</th>\n",
       "      <th>sentiment:confidence</th>\n",
       "      <th>text</th>\n",
       "    </tr>\n",
       "  </thead>\n",
       "  <tbody>\n",
       "    <tr>\n",
       "      <th>0</th>\n",
       "      <td>1</td>\n",
       "      <td>0.8468</td>\n",
       "      <td>top 3 all   tablets  damn right!</td>\n",
       "    </tr>\n",
       "    <tr>\n",
       "      <th>1</th>\n",
       "      <td>1</td>\n",
       "      <td>0.6736</td>\n",
       "      <td>cnbctv   apple's margins better than expected?...</td>\n",
       "    </tr>\n",
       "    <tr>\n",
       "      <th>2</th>\n",
       "      <td>0</td>\n",
       "      <td>1.0000</td>\n",
       "      <td>wtf my battery was 31  one second ago and now ...</td>\n",
       "    </tr>\n",
       "    <tr>\n",
       "      <th>3</th>\n",
       "      <td>1</td>\n",
       "      <td>1.0000</td>\n",
       "      <td>rt  bought my  at the  store  pretty good logo...</td>\n",
       "    </tr>\n",
       "    <tr>\n",
       "      <th>4</th>\n",
       "      <td>0</td>\n",
       "      <td>1.0000</td>\n",
       "      <td>contact sync between yosemite and ios8 is ser...</td>\n",
       "    </tr>\n",
       "  </tbody>\n",
       "</table>\n",
       "</div>"
      ],
      "text/plain": [
       "   sentiment  sentiment:confidence  \\\n",
       "0          1                0.8468   \n",
       "1          1                0.6736   \n",
       "2          0                1.0000   \n",
       "3          1                1.0000   \n",
       "4          0                1.0000   \n",
       "\n",
       "                                                text  \n",
       "0                  top 3 all   tablets  damn right!   \n",
       "1  cnbctv   apple's margins better than expected?...  \n",
       "2  wtf my battery was 31  one second ago and now ...  \n",
       "3  rt  bought my  at the  store  pretty good logo...  \n",
       "4   contact sync between yosemite and ios8 is ser...  "
      ]
     },
     "execution_count": 55,
     "metadata": {},
     "output_type": "execute_result"
    }
   ],
   "source": [
    "df.head()"
   ]
  },
  {
   "cell_type": "markdown",
   "metadata": {},
   "source": [
    "As you can see, the data has been cleaned and the special symbols have been removed. You can save the data to a csv if you want"
   ]
  },
  {
   "cell_type": "markdown",
   "metadata": {},
   "source": [
    "<h5>Now, we need to convert our text into a list of words to perform an analysis on the relation between the sentiment score and the text"
   ]
  },
  {
   "cell_type": "code",
   "execution_count": 59,
   "metadata": {},
   "outputs": [],
   "source": [
    "from nltk import RegexpTokenizer\n",
    "token_regex = RegexpTokenizer(r'\\w+')\n",
    "df['tokens'] = df['text'].apply(token_regex.tokenize)"
   ]
  },
  {
   "cell_type": "code",
   "execution_count": 64,
   "metadata": {},
   "outputs": [
    {
     "data": {
      "text/html": [
       "<div>\n",
       "<style scoped>\n",
       "    .dataframe tbody tr th:only-of-type {\n",
       "        vertical-align: middle;\n",
       "    }\n",
       "\n",
       "    .dataframe tbody tr th {\n",
       "        vertical-align: top;\n",
       "    }\n",
       "\n",
       "    .dataframe thead th {\n",
       "        text-align: right;\n",
       "    }\n",
       "</style>\n",
       "<table border=\"1\" class=\"dataframe\">\n",
       "  <thead>\n",
       "    <tr style=\"text-align: right;\">\n",
       "      <th></th>\n",
       "      <th>sentiment</th>\n",
       "      <th>sentiment:confidence</th>\n",
       "      <th>text</th>\n",
       "      <th>tokens</th>\n",
       "    </tr>\n",
       "  </thead>\n",
       "  <tbody>\n",
       "    <tr>\n",
       "      <th>0</th>\n",
       "      <td>1</td>\n",
       "      <td>0.8468</td>\n",
       "      <td>top 3 all   tablets  damn right!</td>\n",
       "      <td>[top, 3, all, tablets, damn, right]</td>\n",
       "    </tr>\n",
       "    <tr>\n",
       "      <th>1</th>\n",
       "      <td>1</td>\n",
       "      <td>0.6736</td>\n",
       "      <td>cnbctv   apple's margins better than expected?  aapl</td>\n",
       "      <td>[cnbctv, apple, s, margins, better, than, expected, aapl]</td>\n",
       "    </tr>\n",
       "    <tr>\n",
       "      <th>2</th>\n",
       "      <td>0</td>\n",
       "      <td>1.0000</td>\n",
       "      <td>wtf my battery was 31  one second ago and now is 29  wtf is this</td>\n",
       "      <td>[wtf, my, battery, was, 31, one, second, ago, and, now, is, 29, wtf, is, this]</td>\n",
       "    </tr>\n",
       "    <tr>\n",
       "      <th>3</th>\n",
       "      <td>1</td>\n",
       "      <td>1.0000</td>\n",
       "      <td>rt  bought my  at the  store  pretty good logo match   can't wait to install it!</td>\n",
       "      <td>[rt, bought, my, at, the, store, pretty, good, logo, match, can, t, wait, to, install, it]</td>\n",
       "    </tr>\n",
       "    <tr>\n",
       "      <th>4</th>\n",
       "      <td>0</td>\n",
       "      <td>1.0000</td>\n",
       "      <td>contact sync between yosemite and ios8 is seriously screwed up  it used to be much more stable in the past   icloud  isync</td>\n",
       "      <td>[contact, sync, between, yosemite, and, ios8, is, seriously, screwed, up, it, used, to, be, much, more, stable, in, the, past, icloud, isync]</td>\n",
       "    </tr>\n",
       "  </tbody>\n",
       "</table>\n",
       "</div>"
      ],
      "text/plain": [
       "   sentiment  sentiment:confidence  \\\n",
       "0  1          0.8468                 \n",
       "1  1          0.6736                 \n",
       "2  0          1.0000                 \n",
       "3  1          1.0000                 \n",
       "4  0          1.0000                 \n",
       "\n",
       "                                                                                                                          text  \\\n",
       "0  top 3 all   tablets  damn right!                                                                                              \n",
       "1  cnbctv   apple's margins better than expected?  aapl                                                                          \n",
       "2  wtf my battery was 31  one second ago and now is 29  wtf is this                                                              \n",
       "3  rt  bought my  at the  store  pretty good logo match   can't wait to install it!                                              \n",
       "4   contact sync between yosemite and ios8 is seriously screwed up  it used to be much more stable in the past   icloud  isync   \n",
       "\n",
       "                                                                                                                                          tokens  \n",
       "0  [top, 3, all, tablets, damn, right]                                                                                                            \n",
       "1  [cnbctv, apple, s, margins, better, than, expected, aapl]                                                                                      \n",
       "2  [wtf, my, battery, was, 31, one, second, ago, and, now, is, 29, wtf, is, this]                                                                 \n",
       "3  [rt, bought, my, at, the, store, pretty, good, logo, match, can, t, wait, to, install, it]                                                     \n",
       "4  [contact, sync, between, yosemite, and, ios8, is, seriously, screwed, up, it, used, to, be, much, more, stable, in, the, past, icloud, isync]  "
      ]
     },
     "execution_count": 64,
     "metadata": {},
     "output_type": "execute_result"
    }
   ],
   "source": [
    "df.head()"
   ]
  },
  {
   "cell_type": "markdown",
   "metadata": {},
   "source": [
    "Lets visualize the length of the sentences using modules"
   ]
  },
  {
   "cell_type": "code",
   "execution_count": 65,
   "metadata": {},
   "outputs": [],
   "source": [
    "sentence_lengths = [len(tokens) for tokens in df['tokens']]"
   ]
  },
  {
   "cell_type": "code",
   "execution_count": 129,
   "metadata": {},
   "outputs": [
    {
     "data": {
      "text/plain": [
       "Text(0.5, 1.0, 'Sentence Word Count')"
      ]
     },
     "execution_count": 129,
     "metadata": {},
     "output_type": "execute_result"
    },
    {
     "data": {
      "image/png": "[encoded data removed]",
      "text/plain": [
       "<Figure size 864x432 with 1 Axes>"
      ]
     },
     "metadata": {},
     "output_type": "display_data"
    }
   ],
   "source": [
    "plt.figure(figsize=(12,6))\n",
    "plt.hist(sentence_lengths, bins=20)\n",
    "plt.ylabel('Tweet Count')\n",
    "plt.xlabel('Sentence Length per words')\n",
    "plt.title('Sentence Word Count')"
   ]
  },
  {
   "cell_type": "code",
   "execution_count": 111,
   "metadata": {},
   "outputs": [],
   "source": [
    "#Set will remove all non-unique words and keep only one instance of it\n",
    "vocabulary_used = sorted(list(set([word for tokens in df['tokens'] for word in tokens])))\n",
    "all_words = [word for tokens in df['tokens'] for word in tokens]"
   ]
  },
  {
   "cell_type": "code",
   "execution_count": 94,
   "metadata": {},
   "outputs": [
    {
     "name": "stdout",
     "output_type": "stream",
     "text": [
      "The number of unique words in the tweets are: 3701\n"
     ]
    }
   ],
   "source": [
    "print('The number of unique words in the tweets are: {}'.format(len(vocabulary_used)))"
   ]
  },
  {
   "cell_type": "code",
   "execution_count": 112,
   "metadata": {},
   "outputs": [],
   "source": [
    "from collections import Counter\n",
    "wrd_count = [word.upper() for word in all_words]\n",
    "counts = Counter()\n",
    "for word in wrd_count:\n",
    "    counts[word] +=1"
   ]
  },
  {
   "cell_type": "code",
   "execution_count": 119,
   "metadata": {},
   "outputs": [],
   "source": [
    "cmmn=counts.most_common(20)"
   ]
  },
  {
   "cell_type": "code",
   "execution_count": 123,
   "metadata": {},
   "outputs": [],
   "source": [
    "word_vs = []\n",
    "word_count_vs = []\n",
    "\n",
    "for j in range(20):\n",
    "        word_vs.append(cmmn[j][0])\n",
    "        word_count_vs.append(cmmn[j][1])"
   ]
  },
  {
   "cell_type": "code",
   "execution_count": 140,
   "metadata": {},
   "outputs": [
    {
     "data": {
      "image/png": "[encoded data removed]",
      "text/plain": [
       "<Figure size 864x432 with 1 Axes>"
      ]
     },
     "metadata": {},
     "output_type": "display_data"
    }
   ],
   "source": [
    "plt.figure(figsize=(12,6))\n",
    "sns.barplot(word_count_vs,word_vs,palette='coolwarm')\n",
    "plt.title('20 Most Common Words')\n",
    "plt.ylabel('Words')\n",
    "plt.xlabel('Word Count')\n",
    "plt.show()"
   ]
  },
  {
   "cell_type": "markdown",
   "metadata": {},
   "source": [
    "As our main objective is to train a model to predict the sentiment, we need to divide our text into training and testing. Our dependent variables are 'text' and 'sentiment:confidence' and independant variable 'sentiment'."
   ]
  },
  {
   "cell_type": "code",
   "execution_count": 148,
   "metadata": {},
   "outputs": [],
   "source": [
    "from sklearn.model_selection import train_test_split\n",
    "X = df[['text', 'sentiment:confidence']]\n",
    "y = df['sentiment']\n",
    "X_train, X_test, y_train, y_test = train_test_split(X, y, test_size = 0.3,shuffle=False)"
   ]
  },
  {
   "cell_type": "code",
   "execution_count": 149,
   "metadata": {},
   "outputs": [],
   "source": [
    "X_train_conf, X_test_conf = X_train['sentiment:confidence'], X_test['sentiment:confidence']\n",
    "X_train, X_test = X_train['text'], X_test['text']"
   ]
  },
  {
   "cell_type": "code",
   "execution_count": 151,
   "metadata": {},
   "outputs": [],
   "source": [
    "from sklearn.feature_extraction.text import TfidfVectorizer\n",
    "tfid_mod = TfidfVectorizer()\n",
    "X_train_tfidf = tfid_mod.fit_transform(X_train)\n",
    "X_test_tfidf = tfid_mod.transform(X_test)"
   ]
  },
  {
   "cell_type": "markdown",
   "metadata": {},
   "source": [
    "<h5>The above code turns the values in the dataframe into weighted arguements by calculating word frequency scores that try to highlight words that are more interesting, e.g. frequent in a document but not across documents"
   ]
  },
  {
   "cell_type": "markdown",
   "metadata": {},
   "source": [
    "Now, lets visualize the processed data"
   ]
  },
  {
   "cell_type": "code",
   "execution_count": 166,
   "metadata": {},
   "outputs": [],
   "source": [
    "from sklearn.decomposition import TruncatedSVD\n",
    "import matplotlib.patches as mpatches"
   ]
  },
  {
   "cell_type": "code",
   "execution_count": 184,
   "metadata": {},
   "outputs": [],
   "source": [
    "def plot_lsa(text, labels, plot=True):\n",
    "    lsa = TruncatedSVD(n_components=2)\n",
    "    lsa.fit(text)\n",
    "    lsa_scores = lsa.transform(text)\n",
    "    color_dict = {label:idx for idx, label in enumerate(set(labels))}\n",
    "    color_column = [color_dict[label] for label in labels]\n",
    "    colors = ['orange', 'blue']\n",
    "    if plot:\n",
    "        plt.scatter(lsa_scores[:,0], lsa_scores[:,1], s=8, c = labels, cmap = matplotlib.colors.ListedColormap(colors))\n",
    "        red_patch = mpatches.Patch(color='orange', label='Negative')\n",
    "        green_patch = mpatches.Patch(color='blue', label='Positive')\n",
    "        plt.legend(handles=[red_patch, green_patch], prop={'size': 20})"
   ]
  },
  {
   "cell_type": "code",
   "execution_count": 185,
   "metadata": {},
   "outputs": [
    {
     "data": {
      "image/png": "[encoded data removed]",
      "text/plain": [
       "<Figure size 720x504 with 1 Axes>"
      ]
     },
     "metadata": {},
     "output_type": "display_data"
    }
   ],
   "source": [
    "fig = plt.figure(figsize =(10,7))\n",
    "plot_lsa(X_train_tfidf, y_train)\n",
    "plt.xlim(0,0.25)\n",
    "plt.ylim(0,0.4)\n",
    "plt.title(\"2D Visual of Word Frequencies\", size = 18)\n",
    "plt.show()"
   ]
  },
  {
   "cell_type": "markdown",
   "metadata": {},
   "source": [
    "Lets work on building our model"
   ]
  },
  {
   "cell_type": "code",
   "execution_count": 186,
   "metadata": {},
   "outputs": [],
   "source": [
    "from sklearn.linear_model import LogisticRegressionCV\n",
    "logr = LogisticRegressionCV()\n",
    "logr.fit(X_train_tfidf, y_train)\n",
    "y_pred_logr = logr.predict(X_test_tfidf)"
   ]
  },
  {
   "cell_type": "code",
   "execution_count": 187,
   "metadata": {},
   "outputs": [],
   "source": [
    "from sklearn.svm import SVC\n",
    "from sklearn.model_selection import GridSearchCV\n",
    "from sklearn.pipeline import Pipeline"
   ]
  },
  {
   "cell_type": "code",
   "execution_count": 189,
   "metadata": {},
   "outputs": [],
   "source": [
    "clf = SVC(class_weight = 'balanced')\n",
    "pipe = Pipeline([('classifier', clf)])\n",
    "fit_params = {'classifier__kernel':['rbf', 'linear', 'poly'],\n",
    "          'classifier__degree':[2, 3, 4],\n",
    "          'classifier__C':[0.01, 0.1, 1, 10]}"
   ]
  },
  {
   "cell_type": "code",
   "execution_count": 190,
   "metadata": {},
   "outputs": [
    {
     "data": {
      "text/plain": [
       "GridSearchCV(cv=10, error_score=nan,\n",
       "             estimator=Pipeline(memory=None,\n",
       "                                steps=[('classifier',\n",
       "                                        SVC(C=1.0, break_ties=False,\n",
       "                                            cache_size=200,\n",
       "                                            class_weight='balanced', coef0=0.0,\n",
       "                                            decision_function_shape='ovr',\n",
       "                                            degree=3, gamma='scale',\n",
       "                                            kernel='rbf', max_iter=-1,\n",
       "                                            probability=False,\n",
       "                                            random_state=None, shrinking=True,\n",
       "                                            tol=0.001, verbose=False))],\n",
       "                                verbose=False),\n",
       "             iid='deprecated', n_jobs=None,\n",
       "             param_grid={'classifier__C': [0.01, 0.1, 1, 10],\n",
       "                         'classifier__degree': [2, 3, 4],\n",
       "                         'classifier__kernel': ['rbf', 'linear', 'poly']},\n",
       "             pre_dispatch='2*n_jobs', refit=True, return_train_score=True,\n",
       "             scoring=None, verbose=0)"
      ]
     },
     "execution_count": 190,
     "metadata": {},
     "output_type": "execute_result"
    }
   ],
   "source": [
    "gs = GridSearchCV(pipe, fit_params, cv = 10, return_train_score = True)\n",
    "gs.fit(X_train_tfidf, y_train)"
   ]
  },
  {
   "cell_type": "code",
   "execution_count": 191,
   "metadata": {},
   "outputs": [
    {
     "name": "stdout",
     "output_type": "stream",
     "text": [
      "Best performing classifier parameters (score 0.8450953470633105):\n",
      "{'classifier__C': 10, 'classifier__degree': 2, 'classifier__kernel': 'linear'}\n"
     ]
    }
   ],
   "source": [
    "print('Best performing classifier parameters (score {}):\\n{}'.format(gs.best_score_, gs.best_params_))"
   ]
  },
  {
   "cell_type": "code",
   "execution_count": 192,
   "metadata": {},
   "outputs": [],
   "source": [
    "pipe.set_params(classifier__degree = gs.best_params_['classifier__degree'],\n",
    "                classifier__kernel = gs.best_params_['classifier__kernel'],\n",
    "               classifier__C = gs.best_params_['classifier__C'])\n",
    "pipe.fit(X_train_tfidf, y_train)\n",
    "y_pred = pipe.predict(X_test_tfidf)"
   ]
  },
  {
   "cell_type": "code",
   "execution_count": 193,
   "metadata": {},
   "outputs": [
    {
     "name": "stdout",
     "output_type": "stream",
     "text": [
      "Logistic Regression Accuracy:  0.7586206896551724\n",
      "\n",
      "Logistic Classification Report: \n",
      "               precision    recall  f1-score   support\n",
      "\n",
      "           0       0.77      0.93      0.85       350\n",
      "           1       0.67      0.33      0.44       143\n",
      "\n",
      "    accuracy                           0.76       493\n",
      "   macro avg       0.72      0.63      0.64       493\n",
      "weighted avg       0.74      0.76      0.73       493\n",
      "\n",
      "\n",
      "\n",
      " SVM Accuracy:  0.7525354969574036\n",
      "\n",
      "SVM Classification Report: \n",
      "               precision    recall  f1-score   support\n",
      "\n",
      "           0       0.78      0.91      0.84       350\n",
      "           1       0.62      0.38      0.47       143\n",
      "\n",
      "    accuracy                           0.75       493\n",
      "   macro avg       0.70      0.64      0.65       493\n",
      "weighted avg       0.73      0.75      0.73       493\n",
      "\n"
     ]
    }
   ],
   "source": [
    "from sklearn.metrics import accuracy_score, classification_report\n",
    "\n",
    "#Logistic Regression Eval\n",
    "print('Logistic Regression Accuracy: ', accuracy_score(y_test, y_pred_logr))\n",
    "print('\\nLogistic Classification Report: \\n' , classification_report(y_test,  y_pred_logr))\n",
    "\n",
    "#SVM Eval\n",
    "print('\\n\\n SVM Accuracy: ', accuracy_score(y_test, y_pred))\n",
    "print('\\nSVM Classification Report: \\n' , classification_report(y_test,  y_pred))"
   ]
  },
  {
   "cell_type": "code",
   "execution_count": 194,
   "metadata": {},
   "outputs": [],
   "source": [
    "import itertools\n",
    "from sklearn.metrics import confusion_matrix"
   ]
  },
  {
   "cell_type": "code",
   "execution_count": 195,
   "metadata": {},
   "outputs": [],
   "source": [
    "def plot_confusion_matrix(cm, classes,\n",
    "                          normalize=False,\n",
    "                          title='Confusion matrix',\n",
    "                          cmap=plt.cm.winter):\n",
    "    if normalize:\n",
    "        cm = cm.astype('float') / cm.sum(axis=1)[:, np.newaxis]\n",
    "    plt.imshow(cm, interpolation='nearest', cmap=cmap)\n",
    "    plt.title(title, fontsize=30)\n",
    "    plt.colorbar()\n",
    "    tick_marks = np.arange(len(classes))\n",
    "    plt.xticks(tick_marks, classes, fontsize=20)\n",
    "    plt.yticks(tick_marks, classes, fontsize=20)\n",
    "\n",
    "    fmt = '.2f' if normalize else 'd'\n",
    "    thresh = cm.max() / 2.\n",
    "\n",
    "    for i, j in itertools.product(range(cm.shape[0]), range(cm.shape[1])):\n",
    "        plt.text(j, i, format(cm[i, j], fmt), horizontalalignment=\"center\",\n",
    "                 color=\"white\" if cm[i, j] < thresh else \"black\", fontsize=40)\n",
    "\n",
    "    plt.tight_layout()\n",
    "    plt.ylabel('True label', fontsize=30)\n",
    "    plt.xlabel('Predicted label', fontsize=30)\n",
    "    return plt"
   ]
  },
  {
   "cell_type": "code",
   "execution_count": 196,
   "metadata": {},
   "outputs": [
    {
     "data": {
      "image/png": "[encoded data removed]",
      "text/plain": [
       "<Figure size 720x720 with 2 Axes>"
      ]
     },
     "metadata": {},
     "output_type": "display_data"
    },
    {
     "name": "stdout",
     "output_type": "stream",
     "text": [
      "[[327  23]\n",
      " [ 96  47]]\n"
     ]
    }
   ],
   "source": [
    "cm = confusion_matrix(y_test, y_pred_logr)\n",
    "fig = plt.figure(figsize=(10, 10))\n",
    "plot = plot_confusion_matrix(cm, classes=['Negative','Positive'], normalize=True, title='Confusion matrix')\n",
    "plt.show()\n",
    "print(cm)"
   ]
  },
  {
   "cell_type": "code",
   "execution_count": 197,
   "metadata": {},
   "outputs": [],
   "source": [
    "def find_fn(ypred, ytrue):\n",
    "    y_fn  = X_test[(ypred==0)&(ypred!=ytrue)]\n",
    "    return y_fn"
   ]
  },
  {
   "cell_type": "code",
   "execution_count": 198,
   "metadata": {},
   "outputs": [
    {
     "name": "stdout",
     "output_type": "stream",
     "text": [
      "Number of False Negatives:  (96,) \n",
      "\n",
      "['fun  fun nights  post birthday celebration of rfrancoben and  '] \n",
      "\n",
      "['yeeaaayyy    awesome os x yosemite 10 10 1 roccckkkssss m    '] \n",
      "\n",
      "['apple   115 matches 8 4  increase in earnings  use 2014q3 eps  1 42 in   free ios app donkey stocks   aapl \\n'] \n",
      "\n",
      "[' you guys should make pipes too!']\n"
     ]
    }
   ],
   "source": [
    "fn = find_fn(y_pred_logr, y_test)\n",
    "print('Number of False Negatives: ', fn.shape, '\\n')\n",
    "print(fn[:1].values, '\\n')\n",
    "print(fn[1:2].values, '\\n')\n",
    "print(fn[2:3].values, '\\n')\n",
    "print(fn[3:4].values)"
   ]
  },
  {
   "cell_type": "code",
   "execution_count": 200,
   "metadata": {},
   "outputs": [],
   "source": [
    "def find_fp(ypred, ytrue):\n",
    "    y_fp  = X_test[(ypred==1)&(ypred!=ytrue)]\n",
    "    return y_fp"
   ]
  },
  {
   "cell_type": "code",
   "execution_count": 201,
   "metadata": {},
   "outputs": [
    {
     "name": "stdout",
     "output_type": "stream",
     "text": [
      "Number of False Positives:  (23,) \n",
      "\n",
      "[\"2)  i've got one question for yall  who is the genius who decided capitalizing random words was a good idea? bec it wasn't a good idea\"] \n",
      "\n",
      "[\" i know you have the most secure os but you've lost me as you don't have a  dualsim version for us travelling types\"] \n",
      "\n",
      "['   best smartwatch is still the pebble '] \n",
      "\n",
      "[\"   you can already leave snap video messages in apple txts but they go away in 2 mins if you don't watch\"]\n"
     ]
    }
   ],
   "source": [
    "fp = find_fp(y_pred_logr, y_test)\n",
    "print('Number of False Positives: ', fp.shape, '\\n')\n",
    "print(fp[:1].values, '\\n')\n",
    "print(fp[1:2].values, '\\n')\n",
    "print(fp[2:3].values, '\\n')\n",
    "print(fp[3:4].values)"
   ]
  },
  {
   "cell_type": "code",
   "execution_count": 205,
   "metadata": {},
   "outputs": [],
   "source": [
    "def get_most_important_features(vectorizer, model, n=5):\n",
    "    index_to_word = {v:k for k,v in vectorizer.vocabulary_.items()}\n",
    "\n",
    "    # loop for each class\n",
    "    classes ={}\n",
    "    for class_index in range(model.coef_.shape[0]):\n",
    "        word_importances = [(el, index_to_word[i]) for i,el in enumerate(model.coef_[class_index])]\n",
    "        sorted_coeff = sorted(word_importances, key = lambda x : x[0], reverse=True)\n",
    "        tops = sorted(sorted_coeff[:n], key = lambda x : x[0])\n",
    "        bottom = sorted_coeff[-n:]\n",
    "        classes[class_index] = {\n",
    "            'tops':tops,\n",
    "            'bottom':bottom\n",
    "        }\n",
    "    return classes\n",
    "\n",
    "importance = get_most_important_features(tfid_mod, logr, 20)"
   ]
  },
  {
   "cell_type": "code",
   "execution_count": 206,
   "metadata": {},
   "outputs": [
    {
     "data": {
      "image/png": "[encoded data removed]",
      "text/plain": [
       "<Figure size 720x720 with 2 Axes>"
      ]
     },
     "metadata": {},
     "output_type": "display_data"
    }
   ],
   "source": [
    "def plot_important_words(top_scores, top_words, bottom_scores, bottom_words, name):\n",
    "    y_pos = np.arange(len(top_words))\n",
    "    top_pairs = [(a,b) for a,b in zip(top_words, top_scores)]\n",
    "    top_pairs = sorted(top_pairs, key=lambda x: x[1])\n",
    "\n",
    "    bottom_pairs = [(a,b) for a,b in zip(bottom_words, bottom_scores)]\n",
    "    bottom_pairs = sorted(bottom_pairs, key=lambda x: x[1], reverse=True)\n",
    "\n",
    "    top_words = [a[0] for a in top_pairs]\n",
    "    top_scores = [a[1] for a in top_pairs]\n",
    "\n",
    "    bottom_words = [a[0] for a in bottom_pairs]\n",
    "    bottom_scores = [a[1] for a in bottom_pairs]\n",
    "\n",
    "    fig = plt.figure(figsize=(10, 10))\n",
    "\n",
    "    plt.subplot(121)\n",
    "    plt.barh(y_pos,bottom_scores, align='center', alpha=0.5)\n",
    "    plt.title('Negative Sentiment', fontsize=20)\n",
    "    plt.yticks(y_pos, bottom_words, fontsize=14)\n",
    "    plt.suptitle('Key words', fontsize=16)\n",
    "    plt.xlabel('Importance', fontsize=20)\n",
    "\n",
    "    plt.subplot(122)\n",
    "    plt.barh(y_pos,top_scores, align='center', alpha=0.5)\n",
    "    plt.title('Positive Sentiment', fontsize=20)\n",
    "    plt.yticks(y_pos, top_words, fontsize=14)\n",
    "    plt.suptitle(name, fontsize=16)\n",
    "    plt.xlabel('Importance', fontsize=20)\n",
    "\n",
    "    plt.subplots_adjust(wspace=0.8)\n",
    "    plt.show()\n",
    "\n",
    "top_scores = [a[0] for a in importance[0]['tops']]\n",
    "top_words = [a[1] for a in importance[0]['tops']]\n",
    "bottom_scores = [a[0] for a in importance[0]['bottom']]\n",
    "bottom_words = [a[1] for a in importance[0]['bottom']]\n",
    "\n",
    "plot_important_words(top_scores, top_words, bottom_scores, bottom_words, \"Most Important Words for Sentiment\")"
   ]
  },
  {
   "cell_type": "markdown",
   "metadata": {},
   "source": [
    "This project was for learning purposes only and is taken from:\n",
    "https://harrisonjansma.com/apple"
   ]
  },
  {
   "cell_type": "code",
   "execution_count": 212,
   "metadata": {},
   "outputs": [
    {
     "data": {
      "text/plain": [
       "{0: {'tops': [(6.185356690839333, 'looks'),\n",
       "   (6.232881891755989, 'babyyyss'),\n",
       "   (6.268651324131187, 'enjoying'),\n",
       "   (6.302500655250562, 'tablets'),\n",
       "   (6.3313522627704355, 'companies'),\n",
       "   (6.335957854422052, 'aapl'),\n",
       "   (6.442760537539119, 'played'),\n",
       "   (6.464085109895349, 'stay'),\n",
       "   (6.675141927654464, 'got'),\n",
       "   (6.699972597361244, 'thestreet'),\n",
       "   (6.959257543566796, 'great'),\n",
       "   (7.051678475667488, 'loving'),\n",
       "   (7.182229540068905, 'along'),\n",
       "   (7.4280696110071, 'amazing'),\n",
       "   (7.686567667880189, 'go'),\n",
       "   (7.730378145596296, 'plus'),\n",
       "   (8.613812051908594, 'moved'),\n",
       "   (9.729446385472551, 'awesome'),\n",
       "   (9.86215375793729, 'good'),\n",
       "   (10.771843664801988, 'love')],\n",
       "  'bottom': [(-4.788014949735879, 'chargers'),\n",
       "   (-4.926486180268438, 'suck'),\n",
       "   (-4.942634369218568, 'fix'),\n",
       "   (-4.9483571454147555, 'hey'),\n",
       "   (-4.998795264526465, 'tv'),\n",
       "   (-5.029460913684107, 'doesn'),\n",
       "   (-5.0623238890044995, 'as'),\n",
       "   (-5.3577870433256205, 'ur'),\n",
       "   (-5.465872129085266, 'trading'),\n",
       "   (-5.520892043452915, 'get'),\n",
       "   (-5.717929237220008, 'what'),\n",
       "   (-5.763854769061383, 'stop'),\n",
       "   (-6.217414546766672, 'murder'),\n",
       "   (-6.297410015209361, 'facetime'),\n",
       "   (-6.751122233737974, 'charger'),\n",
       "   (-6.8205898703031345, 'not'),\n",
       "   (-7.043512718594492, 'hate'),\n",
       "   (-7.381689941814196, 'shit'),\n",
       "   (-9.287961195850096, 'fuck'),\n",
       "   (-9.41321774071701, 'why')]}}"
      ]
     },
     "execution_count": 212,
     "metadata": {},
     "output_type": "execute_result"
    }
   ],
   "source": [
    "importance"
   ]
  },
  {
   "cell_type": "code",
   "execution_count": null,
   "metadata": {},
   "outputs": [],
   "source": []
  }
 ],
 "metadata": {
  "kernelspec": {
   "display_name": "Python 3.7.5 64-bit",
   "language": "python",
   "name": "python37564bitac63d3df177644a2bedd957abaadbf62"
  },
  "language_info": {
   "codemirror_mode": {
    "name": "ipython",
    "version": 3
   },
   "file_extension": ".py",
   "mimetype": "text/x-python",
   "name": "python",
   "nbconvert_exporter": "python",
   "pygments_lexer": "ipython3",
   "version": "3.7.5"
  }
 },
 "nbformat": 4,
 "nbformat_minor": 2
}
